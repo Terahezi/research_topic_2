{
 "cells": [
  {
   "cell_type": "markdown",
   "metadata": {},
   "source": [
    "# This notebook helps you go through the entire project. It mainly has three parts. \n",
    "## First is to test the mapping function with 'test_ranges' lidar data. \n",
    "## Second is the primary part of SLAM, namely simultaneous localization and mapping. \n",
    "## The last part is texture mapping.\n",
    "## You can simpy start by clicking on Restart & Run All"
   ]
  },
  {
   "cell_type": "markdown",
   "metadata": {},
   "source": [
    "by changing the variable dataset, you can switch between diffent datasets to see the results"
   ]
  },
  {
   "cell_type": "markdown",
   "metadata": {},
   "source": [
    "Import the packages and modules for this project"
   ]
  },
  {
   "cell_type": "code",
   "execution_count": 1,
   "metadata": {
    "scrolled": true
   },
   "outputs": [],
   "source": [
    "# import online packages\n",
    "import numpy as np\n",
    "import matplotlib.pyplot as plt\n",
    "from matplotlib.animation import FuncAnimation\n",
    "\n",
    "# import modules created for this project\n",
    "import load_data\n",
    "import mapping\n",
    "import map_utils\n",
    "import prediction\n",
    "import update\n",
    "import texture\n",
    "\n",
    "# select dataset to use\n",
    "dataset=23"
   ]
  },
  {
   "cell_type": "markdown",
   "metadata": {},
   "source": [
    "Load all data"
   ]
  },
  {
   "cell_type": "code",
   "execution_count": 2,
   "metadata": {},
   "outputs": [
    {
     "data": {
      "text/plain": [
       "'with np.load(\"Kinect%d.npz\"%dataset) as data:\\n    disp_stamps = data[\"disparity_time_stamps\"] # acquisition times of the disparity images\\n    rgb_stamps = data[\"rgb_time_stamps\"] # acquisition times of the rgb images'"
      ]
     },
     "execution_count": 2,
     "metadata": {},
     "output_type": "execute_result"
    }
   ],
   "source": [
    "# load data from different sensors\n",
    "with np.load(\"Encoders%d.npz\"%dataset) as data:\n",
    "    encoder_counts = data[\"counts\"] # 4 x n encoder counts\n",
    "    encoder_stamps = data[\"time_stamps\"] # encoder time stamps\n",
    "with np.load(\"Hokuyo%d.npz\"%dataset) as data:\n",
    "    lidar_angle_min = data[\"angle_min\"] # start angle of the scan [rad]\n",
    "    lidar_angle_max = data[\"angle_max\"] # end angle of the scan [rad]\n",
    "    lidar_angle_increment = data[\"angle_increment\"] # angular distance between measurements [rad]\n",
    "    lidar_range_min = data[\"range_min\"] # minimum range value [m]\n",
    "    lidar_range_max = data[\"range_max\"] # maximum range value [m]\n",
    "    lidar_ranges = data[\"ranges\"]       # range data [m] (Note: values < range_min or > range_max should be discarded)\n",
    "    lidar_stamps = data[\"time_stamps\"]  # acquisition times of the lidar scans\n",
    "with np.load(\"Imu%d.npz\"%dataset) as data:\n",
    "    imu_angular_velocity = data[\"angular_velocity\"] # angular velocity in rad/sec\n",
    "    imu_linear_acceleration = data[\"linear_acceleration\"] # Accelerations in gs (gravity acceleration scaling)\n",
    "    imu_stamps = data[\"time_stamps\"]  # acquisition times of the imu measurements\n",
    "if dataset!=23:\n",
    "    with np.load(\"Kinect%d.npz\"%dataset) as data:\n",
    "        disp_stamps = data[\"disparity_time_stamps\"] # acquisition times of the disparity images\n",
    "        rgb_stamps = data[\"rgb_time_stamps\"] # acquisition times of the rgb images\n",
    "\n",
    "# load the trajectory based on the best particle at each timestamp\n",
    "# muBestTimestamp=np.load('muBestTimestamp.npy')"
   ]
  },
  {
   "cell_type": "markdown",
   "metadata": {},
   "source": [
    "First mapping with test ranges"
   ]
  },
  {
   "cell_type": "code",
   "execution_count": 3,
   "metadata": {},
   "outputs": [
    {
     "data": {
      "text/plain": [
       "<matplotlib.image.AxesImage at 0x1c1b90e048>"
      ]
     },
     "execution_count": 3,
     "metadata": {},
     "output_type": "execute_result"
    },
    {
     "data": {
      "image/png": "[encoded data removed]",
      "text/plain": [
       "<Figure size 432x288 with 1 Axes>"
      ]
     },
     "metadata": {},
     "output_type": "display_data"
    }
   ],
   "source": [
    "# mapping from the first laser scan and plot the map\n",
    "m=mapping.initMap()\n",
    "ranges=np.load(\"test_ranges.npy\")\n",
    "\n",
    "# define measurement trust\n",
    "trust_1,trust_0=4,1/4\n",
    "\n",
    "# initialize map, transform from Lidar frame to world frame\n",
    "# convert from meters to occupancy grid cells\n",
    "# for keeping track of cell logodds\n",
    "    \n",
    "Y=mapping.Lidar_wTbbTl(ranges)\n",
    "sx,sy,xis,yis=mapping.formCells(Y,0.29833,0)\n",
    "\n",
    "# pass scan in world frame to bresenham2D and update cell logodds\n",
    "for i in range(len(Y)):\n",
    "    ex=xis[i]\n",
    "    ey=yis[i]\n",
    "    location_occupied=map_utils.bresenham2D(sx, sy, ex, ey)\n",
    "    index_x=location_occupied[0].astype('int64')\n",
    "    index_y=location_occupied[1].astype('int64')\n",
    "    #m[index_x[:-1],index_y[:-1]]=m[index_x[:-1],index_y[:-1]]+np.log(trust_0)\n",
    "    m[index_x[-1],index_y[-1]]=m[index_x[-1],index_y[-1]]+np.log(trust_1)\n",
    "\n",
    "# show updated map\n",
    "#m[m>=0]=1\n",
    "#m[m<0]=0\n",
    "m=1-1/(1+np.exp(m))\n",
    "plt.imshow(m)"
   ]
  },
  {
   "cell_type": "markdown",
   "metadata": {},
   "source": [
    "Localization Prediction, Update and Mapping"
   ]
  },
  {
   "cell_type": "code",
   "execution_count": 4,
   "metadata": {},
   "outputs": [
    {
     "name": "stdout",
     "output_type": "stream",
     "text": [
      "0\n",
      "50\n",
      "100\n",
      "150\n",
      "200\n",
      "250\n",
      "300\n",
      "350\n",
      "400\n",
      "450\n",
      "500\n",
      "550\n",
      "600\n",
      "650\n",
      "700\n",
      "750\n",
      "800\n",
      "850\n",
      "900\n",
      "950\n",
      "1000\n",
      "1050\n",
      "1100\n",
      "1150\n",
      "1200\n",
      "1250\n",
      "1300\n",
      "1350\n",
      "1400\n",
      "1450\n",
      "1500\n",
      "1550\n",
      "1600\n",
      "1650\n",
      "1700\n",
      "1750\n",
      "1800\n",
      "1850\n",
      "1900\n",
      "1950\n",
      "2000\n",
      "2050\n",
      "2100\n",
      "2150\n",
      "2200\n",
      "2250\n",
      "2300\n",
      "2350\n",
      "2400\n",
      "2450\n",
      "2500\n",
      "2550\n",
      "2600\n",
      "2650\n",
      "2700\n",
      "2750\n",
      "2800\n",
      "2850\n",
      "2900\n",
      "2950\n",
      "3000\n",
      "3050\n",
      "3100\n",
      "3150\n",
      "3200\n",
      "3250\n",
      "3300\n",
      "3350\n",
      "3400\n",
      "3450\n",
      "3500\n",
      "3550\n",
      "3600\n",
      "3650\n",
      "3700\n",
      "3750\n",
      "3800\n"
     ]
    }
   ],
   "source": [
    "# We assume that the inital robot state is at the origin\n",
    "# of the world frame and the robot frame aligned with world frame\n",
    "initPose=np.array([0,0,0])\n",
    "# So let's initialize with 100 particles at the origin of world frame\n",
    "# and assign them with equal weights\n",
    "N=1\n",
    "mu=np.zeros((3,N)) # particle positions\n",
    "# muBestTimestamp=np.zeros((3,len(encoder_stamps)-1))\n",
    "alpha=np.ones((N))/N\n",
    "\n",
    "# initialize a 2D Gaussian noise for adding to control inputs\n",
    "mean=[0,0]\n",
    "cov=[[10**(-6),0],[0,10**(-7)]]\n",
    "\n",
    "# use a numpy array to store the pose at different encoder_stamps\n",
    "pose=np.zeros((len(encoder_stamps)-1,3))\n",
    "\n",
    "# current map and physical positions that I want to evaluate correlation \n",
    "im_trajectory=mapping.initMap()\n",
    "im_mapping=mapping.initMap()\n",
    "x_range = np.arange(-0.2,0.2+0.05,0.05)\n",
    "y_range = np.arange(-0.2,0.2+0.05,0.05)\n",
    "\n",
    "# initialize a map for creating gif\n",
    "mMap,nMap=im_mapping.shape\n",
    "img_mapping_gif=np.zeros((mMap,nMap,3))\n",
    "\n",
    "# define measurement trust\n",
    "trust_1,trust_0=4,1/4\n",
    "\n",
    "# create a frames list to store all frames created\n",
    "imgFrames=[]\n",
    "\n",
    "# make predictions of robot pose and append to trajectory array\n",
    "# using the particle with the largest weight\n",
    "for i in range(len(encoder_stamps)-1):\n",
    "    \n",
    "    ## PREDICTION STEP\n",
    "    # parse the control inputs and add with noise\n",
    "    # predict new poses for all particles\n",
    "    noise=np.random.multivariate_normal(mean,cov,N) # Nx2 array\n",
    "    controlTimesT=prediction.parseControl(i,encoder_stamps,encoder_counts,imu_stamps,imu_angular_velocity)\n",
    "    controlTimesT=controlTimesT+noise # Nx2 array\n",
    "    mu=prediction.diff_drive(mu,controlTimesT)\n",
    "    \n",
    "    ## UPDATE STEP\n",
    "    # To use particles updated and resampled for each timestamp\n",
    "    x_im,y_im,xw0,yw0,yaw_W,len_valid=update.parseScan(i,mu,lidar_stamps,lidar_ranges,encoder_stamps)\n",
    "    \n",
    "    # start update the weights of particles\n",
    "    max_corr=np.zeros((N))\n",
    "    for j in range(N):\n",
    "        #corr=np.zeros((9))\n",
    "        #for k in range(9): # add 9 different variations to yaw\n",
    "            #yaw_W[j]=yaw_W[j]+np.random.normal(0,0.1)\n",
    "        yaw_vari=np.ones((len_valid))*yaw_W[j]\n",
    "            #vp=np.stack((xw0[j],yw0[j],yaw_vari))\n",
    "        vp=np.stack((xw0[j],yw0[j],yaw_vari))\n",
    "            # use laser correlation model to get a correlation\n",
    "            # between transformed scan and grid\n",
    "            #corr[k]=np.max(map_utils.mapCorrelation(im, x_im, y_im, vp, x_range, y_range))\n",
    "        im=np.zeros_like(im_mapping)\n",
    "        im[:]=im_mapping[:]\n",
    "        im[im>=0]=1\n",
    "        im[im<0]=0\n",
    "        max_corr[j]=np.max(map_utils.mapCorrelation(im, x_im, y_im, vp, x_range, y_range))\n",
    "    \n",
    "    # get the new weights\n",
    "    alpha=alpha*np.exp(max_corr-np.max(max_corr))\n",
    "    alpha=alpha/np.sum(alpha)\n",
    "    \n",
    "    # stratified resampling\n",
    "    Neff=1/np.sum(alpha**2)\n",
    "    Nthres=N/2\n",
    "    if Neff<=Nthres:\n",
    "        k=0\n",
    "        c=alpha[0]\n",
    "        for j in range(N):\n",
    "            u=np.random.uniform(0,1/N)\n",
    "            beta=u+j/N\n",
    "            while beta>c:\n",
    "                k=k+1\n",
    "                c=c+alpha[k]\n",
    "            mu[:,j]=mu[:,k]\n",
    "    alpha=np.ones((N))/N\n",
    "            \n",
    "    # pick the particle with highest alpha \n",
    "    # for creating trajectory and mapping\n",
    "    muIndex=np.argmax(alpha)\n",
    "    pose[i,:]=mu[:,muIndex]\n",
    "    # muBestTimestamp[:,i]=mu[:,muIndex] # store the best particle at each timestamp\n",
    "\n",
    "    ## MAPPING STEP\n",
    "    # convert from meters to occupancy grid cells\n",
    "    # for keeping track of cell logodds\n",
    "    Y=np.stack((xw0[muIndex],yw0[muIndex]),axis=-1)\n",
    "    sx,sy,xis,yis=mapping.formCells(Y,mu[0,muIndex],mu[1,muIndex])\n",
    "\n",
    "    # pass scan in world frame to bresenham2D and update cell logodds\n",
    "    for t in range(len(Y)):\n",
    "        ex=xis[t]\n",
    "        ey=yis[t]\n",
    "        location_occupied=map_utils.bresenham2D(sx, sy, ex, ey)\n",
    "        index_x=location_occupied[0].astype('int64')\n",
    "        index_y=location_occupied[1].astype('int64')\n",
    "        im_mapping[index_x[:-1],index_y[:-1]]=im_mapping[index_x[:-1],index_y[:-1]]+np.log(trust_0)\n",
    "        im_mapping[index_x[-1],index_y[-1]]=im_mapping[index_x[-1],index_y[-1]]+np.log(trust_1)\n",
    "        \n",
    "    # create frames for making a GIF to show explicitly simultaneous localization and mapping\n",
    "    # color the map for occupied, unoccupied and undefined regions\n",
    "    if i%50==0:\n",
    "        maskOccu=im_mapping>0\n",
    "        maskUnoccu=im_mapping<0\n",
    "        maskUndefined=im_mapping==0\n",
    "        \n",
    "        img_mapping_gif[maskOccu]=0   # black for occupied\n",
    "        img_mapping_gif[maskUnoccu]=255   # white for unoccupied\n",
    "        img_mapping_gif[maskUndefined]=128   # gray for undefined\n",
    "        # color the trajectory\n",
    "        sx,sy,xis,yis=mapping.formCells(pose[i:i+1,:2],0,0)\n",
    "        img_mapping_gif[xis[0]-3:xis[0]+3,yis[0]-3:yis[0]+3]=[255,0,0]   # red for trajectory\n",
    "        \n",
    "        # Rotate the image counter-clockwise by 90 degrees\n",
    "        im_mapping_gif_rot=np.array(list(zip(*img_mapping_gif))[::-1])\n",
    "        imgFrames.append(im_mapping_gif_rot)\n",
    "        # record the process\n",
    "        print(i)\n",
    "\n",
    "# remove yaw data from pose and create a trajectory [xis,yis]\n",
    "sx,sy,xis,yis=mapping.formCells(pose[:,:2],0,0)\n",
    "# x_max,y_max=np.amax(trajectory,axis=0)[0],np.amax(trajectory,axis=0)[1]"
   ]
  },
  {
   "cell_type": "markdown",
   "metadata": {},
   "source": [
    "Visualize trajectory"
   ]
  },
  {
   "cell_type": "code",
   "execution_count": 6,
   "metadata": {},
   "outputs": [
    {
     "data": {
      "text/plain": [
       "[<matplotlib.lines.Line2D at 0x1c1c3df048>]"
      ]
     },
     "execution_count": 6,
     "metadata": {},
     "output_type": "execute_result"
    },
    {
     "data": {
      "image/png": "[encoded data removed]",
      "text/plain": [
       "<Figure size 432x288 with 1 Axes>"
      ]
     },
     "metadata": {},
     "output_type": "display_data"
    }
   ],
   "source": [
    "# visualize trajectory in physical dimensions\n",
    "plt.plot(pose[:,0],pose[:,1])"
   ]
  },
  {
   "cell_type": "markdown",
   "metadata": {},
   "source": [
    "Visualize map"
   ]
  },
  {
   "cell_type": "code",
   "execution_count": 7,
   "metadata": {},
   "outputs": [
    {
     "data": {
      "text/plain": [
       "[<matplotlib.lines.Line2D at 0x1c2c113f98>]"
      ]
     },
     "execution_count": 7,
     "metadata": {},
     "output_type": "execute_result"
    },
    {
     "data": {
      "image/png": "[encoded data removed]",
      "text/plain": [
       "<Figure size 432x288 with 1 Axes>"
      ]
     },
     "metadata": {},
     "output_type": "display_data"
    }
   ],
   "source": [
    "# visualize trajectory in grid cell positions\n",
    "plt.plot(xis,yis)"
   ]
  },
  {
   "cell_type": "code",
   "execution_count": 8,
   "metadata": {},
   "outputs": [
    {
     "data": {
      "text/plain": [
       "<matplotlib.image.AxesImage at 0x1c2c17bbe0>"
      ]
     },
     "execution_count": 8,
     "metadata": {},
     "output_type": "execute_result"
    },
    {
     "data": {
      "image/png": "[encoded data removed]",
      "text/plain": [
       "<Figure size 432x288 with 1 Axes>"
      ]
     },
     "metadata": {},
     "output_type": "display_data"
    }
   ],
   "source": [
    "# visualize map\n",
    "# im_mapping[im_mapping>=0]=1\n",
    "# im_mapping[im_mapping<0]=0\n",
    "im_mapping=1-1/(1+np.exp(im_mapping))\n",
    "# Rotate the image counter-clockwise by 90 degrees\n",
    "im_mapping=np.array(list(zip(*im_mapping))[::-1])\n",
    "plt.imshow(im_mapping)"
   ]
  },
  {
   "cell_type": "markdown",
   "metadata": {},
   "source": [
    "Plot trajectory and map in one image"
   ]
  },
  {
   "cell_type": "code",
   "execution_count": 13,
   "metadata": {},
   "outputs": [
    {
     "data": {
      "image/png": "[encoded data removed]",
      "text/plain": [
       "<Figure size 432x288 with 1 Axes>"
      ]
     },
     "metadata": {},
     "output_type": "display_data"
    }
   ],
   "source": [
    "# plot in one image\n",
    "plt.figure()\n",
    "plt.imshow(im_mapping)\n",
    "plt.plot(xis,1401-yis,'r-',)\n",
    "plt.show()"
   ]
  },
  {
   "cell_type": "markdown",
   "metadata": {},
   "source": [
    "Create a gif"
   ]
  },
  {
   "cell_type": "code",
   "execution_count": 10,
   "metadata": {},
   "outputs": [
    {
     "name": "stderr",
     "output_type": "stream",
     "text": [
      "MovieWriter ffmpeg unavailable.\n"
     ]
    }
   ],
   "source": [
    "# make a gif showing SLAM\n",
    "# trajSeq=0\n",
    "fig,ax=plt.subplots()\n",
    "def update(whichFrame):\n",
    "    # ax.plot(xis[trajSeq],1201-yis[trajSeq],'ro',markersize=2)\n",
    "    ax.imshow(imgFrames[whichFrame].astype(np.int))\n",
    "    # trajSeq=trajSeq+50\n",
    "anim=FuncAnimation(fig,update,frames=len(imgFrames),interval=200,repeat=True)\n",
    "anim.save('SLAM_Zi_He.gif')\n",
    "plt.close()"
   ]
  },
  {
   "cell_type": "markdown",
   "metadata": {},
   "source": [
    "Texture mapping"
   ]
  },
  {
   "cell_type": "code",
   "execution_count": 11,
   "metadata": {},
   "outputs": [
    {
     "ename": "NameError",
     "evalue": "name 'rgb_stamps' is not defined",
     "output_type": "error",
     "traceback": [
      "\u001b[0;31m---------------------------------------------------------------------------\u001b[0m",
      "\u001b[0;31mNameError\u001b[0m                                 Traceback (most recent call last)",
      "\u001b[0;32m<ipython-input-11-7916b6cd2328>\u001b[0m in \u001b[0;36m<module>\u001b[0;34m()\u001b[0m\n\u001b[1;32m      3\u001b[0m \u001b[0;34m\u001b[0m\u001b[0m\n\u001b[1;32m      4\u001b[0m \u001b[0;31m# update the texture map sequentially according to the timestamp of disparity images\u001b[0m\u001b[0;34m\u001b[0m\u001b[0;34m\u001b[0m\u001b[0m\n\u001b[0;32m----> 5\u001b[0;31m \u001b[0;32mfor\u001b[0m \u001b[0mi\u001b[0m \u001b[0;32min\u001b[0m \u001b[0mrange\u001b[0m\u001b[0;34m(\u001b[0m\u001b[0mlen\u001b[0m\u001b[0;34m(\u001b[0m\u001b[0mrgb_stamps\u001b[0m\u001b[0;34m)\u001b[0m\u001b[0;34m)\u001b[0m\u001b[0;34m:\u001b[0m\u001b[0;34m\u001b[0m\u001b[0m\n\u001b[0m\u001b[1;32m      6\u001b[0m     \u001b[0;31m# find the corresponding pose (of the best particle)\u001b[0m\u001b[0;34m\u001b[0m\u001b[0;34m\u001b[0m\u001b[0m\n\u001b[1;32m      7\u001b[0m     \u001b[0;31m# according to the rgb timestamp\u001b[0m\u001b[0;34m\u001b[0m\u001b[0;34m\u001b[0m\u001b[0m\n",
      "\u001b[0;31mNameError\u001b[0m: name 'rgb_stamps' is not defined"
     ]
    }
   ],
   "source": [
    "# initialize a map for texture mapping\n",
    "im_texture_mapping=texture.initMap()\n",
    "\n",
    "# update the texture map sequentially according to the timestamp of disparity images\n",
    "for i in range(len(rgb_stamps)):\n",
    "    # find the corresponding pose (of the best particle)\n",
    "    # according to the rgb timestamp\n",
    "    rgbTime=rgb_stamps[i]\n",
    "    closest_index=np.argmin(np.abs(rgbTime-encoder_stamps[:-1]))\n",
    "    muBest=pose[closest_index,:]\n",
    "    # find corresponding cell positions in grid \n",
    "    # and pixel positions in RGB image\n",
    "    cellCoordi,rgbi,rgbj=texture.parseKinect(i,dataset,muBest,disp_stamps,rgb_stamps,encoder_stamps)\n",
    "    # color the cells using points from RGB image\n",
    "    im_texture_mapping=texture.colorCells(i,dataset,im_texture_mapping,cellCoordi[0],cellCoordi[1],rgbi,rgbj)\n",
    "    \n",
    "# plot the texture map\n",
    "plt.imshow(im_texture_mapping)"
   ]
  },
  {
   "cell_type": "code",
   "execution_count": 14,
   "metadata": {},
   "outputs": [],
   "source": [
    "from scipy import signal\n",
    "b, a = signal.butter(1,0.02,'lowpass')\n",
    "imu_angular_velocity1 = signal.filtfilt(b, a, imu_angular_velocity)"
   ]
  },
  {
   "cell_type": "code",
   "execution_count": 15,
   "metadata": {},
   "outputs": [
    {
     "data": {
      "text/plain": [
       "array([[-0.01084761, -0.01001556, -0.00920837, ..., -0.01197907,\n",
       "        -0.01278494, -0.01358861],\n",
       "       [-0.00437827, -0.00380094, -0.0032304 , ...,  0.00742729,\n",
       "         0.00761801,  0.0078132 ],\n",
       "       [-0.0116056 , -0.01093566, -0.01027328, ...,  0.00457201,\n",
       "         0.00463078,  0.00469152]])"
      ]
     },
     "execution_count": 15,
     "metadata": {},
     "output_type": "execute_result"
    }
   ],
   "source": [
    "imu_angular_velocity1"
   ]
  },
  {
   "cell_type": "code",
   "execution_count": 16,
   "metadata": {},
   "outputs": [
    {
     "data": {
      "text/plain": [
       "[<matplotlib.lines.Line2D at 0x1c251024a8>]"
      ]
     },
     "execution_count": 16,
     "metadata": {},
     "output_type": "execute_result"
    },
    {
     "data": {
      "image/png": "[encoded data removed]",
      "text/plain": [
       "<Figure size 432x288 with 1 Axes>"
      ]
     },
     "metadata": {},
     "output_type": "display_data"
    }
   ],
   "source": [
    "plt.plot(imu_angular_velocity1[2,:])"
   ]
  },
  {
   "cell_type": "code",
   "execution_count": 17,
   "metadata": {},
   "outputs": [
    {
     "data": {
      "text/plain": [
       "[<matplotlib.lines.Line2D at 0x1c2539b0b8>]"
      ]
     },
     "execution_count": 17,
     "metadata": {},
     "output_type": "execute_result"
    },
    {
     "data": {
      "image/png": "[encoded data removed]",
      "text/plain": [
       "<Figure size 432x288 with 1 Axes>"
      ]
     },
     "metadata": {},
     "output_type": "display_data"
    }
   ],
   "source": [
    "plt.plot(imu_angular_velocity[2,:])"
   ]
  },
  {
   "cell_type": "code",
   "execution_count": null,
   "metadata": {},
   "outputs": [],
   "source": []
  }
 ],
 "metadata": {
  "kernelspec": {
   "display_name": "Python 3",
   "language": "python",
   "name": "python3"
  },
  "language_info": {
   "codemirror_mode": {
    "name": "ipython",
    "version": 3
   },
   "file_extension": ".py",
   "mimetype": "text/x-python",
   "name": "python",
   "nbconvert_exporter": "python",
   "pygments_lexer": "ipython3",
   "version": "3.6.5"
  }
 },
 "nbformat": 4,
 "nbformat_minor": 2
}
